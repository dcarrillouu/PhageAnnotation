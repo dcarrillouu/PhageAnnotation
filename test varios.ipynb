{
 "cells": [
  {
   "cell_type": "code",
   "execution_count": 30,
   "metadata": {},
   "outputs": [],
   "source": [
    "import pandas as pd\n",
    "import numpy as np"
   ]
  },
  {
   "cell_type": "code",
   "execution_count": 31,
   "metadata": {},
   "outputs": [],
   "source": [
    "data = pd.read_csv(\"ORF_calling/phanotate/genes_tables/QWBY01000010_phanotate.genestbl\", sep=\"\\t\")"
   ]
  },
  {
   "cell_type": "code",
   "execution_count": 32,
   "metadata": {},
   "outputs": [
    {
     "data": {
      "text/plain": [
       "(187, 8)"
      ]
     },
     "execution_count": 32,
     "metadata": {},
     "output_type": "execute_result"
    }
   ],
   "source": [
    "data.shape"
   ]
  },
  {
   "cell_type": "code",
   "execution_count": 33,
   "metadata": {},
   "outputs": [
    {
     "data": {
      "text/plain": [
       "[[2, 1006],\n",
       " [1015, 1745],\n",
       " [1747, 2547],\n",
       " [2566, 3441],\n",
       " [3444, 4253],\n",
       " [4266, 4865],\n",
       " [4867, 6918],\n",
       " [6921, 8696],\n",
       " [8794, 9709],\n",
       " [9711, 14269],\n",
       " [14284, 15074],\n",
       " [15092, 15816],\n",
       " [15818, 16242],\n",
       " [16256, 17792],\n",
       " [17887, 18675],\n",
       " [18735, 19700],\n",
       " [19706, 19936],\n",
       " [19943, 20755],\n",
       " [20758, 21384],\n",
       " [21531, 22511],\n",
       " [22514, 23014],\n",
       " [23048, 23353],\n",
       " [23358, 24533],\n",
       " [24610, 26430],\n",
       " [26522, 26629],\n",
       " [26933, 27034],\n",
       " [27116, 27301],\n",
       " [27306, 27830],\n",
       " [27956, 28270],\n",
       " [28287, 28430],\n",
       " [28454, 29176],\n",
       " [29362, 29478],\n",
       " [29600, 29836],\n",
       " [30006, 30523],\n",
       " [30781, 30967],\n",
       " [31040, 31222],\n",
       " [31331, 31537],\n",
       " [31617, 31790],\n",
       " [32016, 32393],\n",
       " [32512, 33252],\n",
       " [33270, 33632],\n",
       " [33638, 33958],\n",
       " [33993, 34148],\n",
       " [34240, 34470],\n",
       " [34472, 34579],\n",
       " [34628, 35044],\n",
       " [35046, 36373],\n",
       " [36397, 36549],\n",
       " [36557, 38038],\n",
       " [38123, 38669],\n",
       " [38671, 41202],\n",
       " [41206, 41538],\n",
       " [41766, 42824],\n",
       " [42826, 46748],\n",
       " [46753, 48505],\n",
       " [48514, 48744],\n",
       " [48756, 49799],\n",
       " [49820, 50593],\n",
       " [50614, 50928],\n",
       " [50930, 52016],\n",
       " [52041, 56212],\n",
       " [56330, 56893],\n",
       " [57016, 58569],\n",
       " [58591, 62771],\n",
       " [62774, 63097],\n",
       " [63154, 65624],\n",
       " [65626, 70518],\n",
       " [70521, 71015],\n",
       " [71079, 71348],\n",
       " [71410, 71937],\n",
       " [72084, 72662],\n",
       " [72676, 72918],\n",
       " [73168, 73863],\n",
       " [73961, 74335],\n",
       " [74338, 74574],\n",
       " [74577, 74714],\n",
       " [74715, 75035],\n",
       " [75047, 75406],\n",
       " [75515, 75760],\n",
       " [75806, 76546],\n",
       " [76603, 76704],\n",
       " [76834, 78021],\n",
       " [78025, 78507],\n",
       " [78644, 79441],\n",
       " [79464, 79796],\n",
       " [79798, 80397],\n",
       " [80453, 80578],\n",
       " [80583, 80735],\n",
       " [80794, 81354],\n",
       " [81469, 81573],\n",
       " [81582, 83729],\n",
       " [83779, 84027],\n",
       " [84046, 84555],\n",
       " [84558, 84923],\n",
       " [85069, 86108],\n",
       " [86156, 90901],\n",
       " [90903, 91931],\n",
       " [91933, 101638],\n",
       " [101751, 111659],\n",
       " [111670, 113610],\n",
       " [113674, 117186],\n",
       " [117241, 117519],\n",
       " [117588, 126556],\n",
       " [126558, 130759],\n",
       " [130869, 132702],\n",
       " [132810, 133838],\n",
       " [133868, 134812],\n",
       " [134847, 135779],\n",
       " [135885, 136481],\n",
       " [136570, 136671],\n",
       " [136688, 136777],\n",
       " [136876, 137955],\n",
       " [137963, 138052],\n",
       " [138159, 138353],\n",
       " [138420, 138566],\n",
       " [138710, 139294],\n",
       " [139328, 140374],\n",
       " [140382, 140480],\n",
       " [140495, 141091],\n",
       " [141104, 141721],\n",
       " [141730, 142305],\n",
       " [142307, 144860],\n",
       " [144874, 145422]]"
      ]
     },
     "execution_count": 33,
     "metadata": {},
     "output_type": "execute_result"
    }
   ],
   "source": [
    "start = data[\"start\"].tolist()\n",
    "end   = data[\"end\"].tolist()\n",
    "\n",
    "intervals = [[s,e] for s,e in zip(start, end)]\n",
    "\n",
    "intervals.sort(key=lambda interval: interval[0])\n",
    "merged = [intervals[0]]\n",
    "for current in intervals:\n",
    "    previous = merged[-1]\n",
    "    if current[0] <= previous[1]:\n",
    "        previous[1] = max(previous[1], current[1])\n",
    "    else:\n",
    "        merged.append(current)\n",
    "\n"
   ]
  },
  {
   "cell_type": "code",
   "execution_count": 39,
   "metadata": {},
   "outputs": [],
   "source": [
    "len(merged)\n",
    "out = open(\"borrar.txt\", \"w\")\n",
    "for a in merged:\n",
    "    out.write(f\"{a[0]}\\t{a[1]}\\n\")\n",
    "out.close()"
   ]
  },
  {
   "cell_type": "code",
   "execution_count": null,
   "metadata": {},
   "outputs": [],
   "source": []
  },
  {
   "cell_type": "code",
   "execution_count": 40,
   "metadata": {},
   "outputs": [],
   "source": [
    "from Bio import SearchIO"
   ]
  },
  {
   "cell_type": "code",
   "execution_count": 56,
   "metadata": {},
   "outputs": [
    {
     "name": "stdout",
     "output_type": "stream",
     "text": [
      "VOG0025 Eld241-t0_s_1|phanotate|90524..91450|309|+|gene_325 8.4e-24 79.6\n",
      "VOG0052 Eld241-t0_s_1|phanotate|78979..79536|186|+|gene_303 3e-11 37.3\n",
      "VOG0085 Eld241-t0_s_1|phanotate|63061..63612|184|-|gene_248 4.7e-36 118.4\n",
      "VOG0154 Eld241-t0_s_1|phanotate|790..981|64|-|gene_4 0.00011 16.7\n",
      "VOG0163 Eld241-t0_s_1|phanotate|95791..96684|298|+|gene_337 3e-48 159.3\n",
      "VOG0189 Eld241-t0_s_1|phanotate|95791..96684|298|+|gene_337 0.0032 11.7\n",
      "VOG0322 Eld241-t0_s_1|phanotate|91955..92695|247|+|gene_327 1.2e-23 78.7\n",
      "VOG0377 Eld241-t0_s_1|phanotate|3910..3999|30|-|gene_19 0.00017 15.4\n",
      "VOG0377 Eld241-t0_s_1|phanotate|2896..3045|50|-|gene_14 0.00053 13.8\n",
      "VOG0425 Eld241-t0_s_1|phanotate|76704..77198|165|+|gene_295 0.002 13.0\n",
      "VOG0451 Eld241-t0_s_1|phanotate|95372..95770|133|+|gene_336 6.1e-08 27.1\n",
      "VOG0476 Eld241-t0_s_1|phanotate|74870..75073|68|+|gene_289 0.015 8.4\n",
      "VOG0536 Eld241-t0_s_1|phanotate|95372..95770|133|+|gene_336 6.7e-13 43.4\n",
      "VOG0705 Eld241-t0_s_1|phanotate|90524..91450|309|+|gene_325 0.00017 14.7\n",
      "VOG0753 Eld241-t0_s_1|phanotate|37977..38354|126|-|gene_162 0.0008 14.1\n",
      "VOG0996 Eld241-t0_s_1|phanotate|95791..96684|298|+|gene_337 3.8e-13 44.0\n",
      "VOG10039 Eld241-t0_s_1|phanotate|74870..75073|68|+|gene_289 0.01 10.3\n",
      "VOG10286 Eld241-t0_s_1|phanotate|50176..50484|103|-|gene_200 0.0018 11.6\n",
      "VOG10290 Eld241-t0_s_1|phanotate|89977..90543|189|+|gene_324 0.00057 14.4\n",
      "VOG1040 Eld241-t0_s_1|phanotate|30538..30864|109|-|gene_130 6.1e-08 26.9\n",
      "VOG10597 Eld241-t0_s_1|phanotate|67198..67662|155|+|gene_265 0.0069 10.7\n",
      "VOG10814 Eld241-t0_s_1|phanotate|89977..90543|189|+|gene_324 0.0042 11.7\n",
      "VOG10969 Eld241-t0_s_1|phanotate|62430..62867|146|-|gene_246 1.4e-06 22.8\n",
      "VOG1212 Eld241-t0_s_1|phanotate|95077..95391|105|+|gene_335 0.00021 15.7\n",
      "VOG1343 Eld241-t0_s_1|phanotate|95791..96684|298|+|gene_337 0.00088 13.1\n",
      "VOG1362 Eld241-t0_s_1|phanotate|90524..91450|309|+|gene_325 0.00044 14.8\n",
      "VOG1445 Eld241-t0_s_1|phanotate|50176..50484|103|-|gene_200 9.4 0.1\n",
      "VOG1864 Eld241-t0_s_1|phanotate|76704..77198|165|+|gene_295 0.00078 14.2\n",
      "VOG1914 Eld241-t0_s_1|phanotate|8158..8556|133|-|gene_39 1.1e-05 20.2\n",
      "VOG2115 Eld241-t0_s_1|phanotate|80004..81515|504|+|gene_305 0.037 8.7\n",
      "VOG2235 Eld241-t0_s_1|phanotate|75406..75897|164|+|gene_291 0.00035 14.9\n",
      "VOG2352 Eld241-t0_s_1|phanotate|90524..91450|309|+|gene_325 0.0012 12.9\n",
      "VOG2406 Eld241-t0_s_1|phanotate|95791..96684|298|+|gene_337 0.00013 15.3\n",
      "VOG2409 Eld241-t0_s_1|phanotate|69107..69400|98|+|gene_271 3.8e-05 18.3\n",
      "VOG2634 Eld241-t0_s_1|phanotate|67198..67662|155|+|gene_265 0.00027 15.8\n",
      "VOG3343 Eld241-t0_s_1|phanotate|95791..96684|298|+|gene_337 0.00073 13.6\n",
      "VOG3379 Eld241-t0_s_1|phanotate|78979..79536|186|+|gene_303 0.0023 12.2\n",
      "VOG3439 Eld241-t0_s_1|phanotate|67198..67662|155|+|gene_265 0.0099 10.0\n",
      "VOG3479 Eld241-t0_s_1|phanotate|64108..64431|108|-|gene_251 0.00053 14.2\n",
      "VOG3488 Eld241-t0_s_1|phanotate|66161..66559|133|+|gene_259 6.9e-14 46.2\n",
      "VOG3560 Eld241-t0_s_1|phanotate|62430..62867|146|-|gene_246 0.0012 13.6\n",
      "VOG3644 Eld241-t0_s_1|phanotate|27495..27596|34|+|gene_115 0.00042 14.7\n",
      "VOG4157 Eld241-t0_s_1|phanotate|63881..64006|42|+|gene_250 0.00022 15.5\n",
      "VOG4189 Eld241-t0_s_1|phanotate|49288..49692|135|-|gene_196 0.002 12.8\n",
      "VOG4381 Eld241-t0_s_1|phanotate|98982..99314|111|+|gene_343 1.0 4.3\n",
      "VOG4473 Eld241-t0_s_1|phanotate|65033..65461|143|-|gene_255 0.002 13.0\n",
      "VOG4577 Eld241-t0_s_1|phanotate|88045..89955|637|+|gene_323 2.9e-33 110.0\n",
      "VOG4587 Eld241-t0_s_1|phanotate|95791..96684|298|+|gene_337 0.00034 14.7\n",
      "VOG4708 Eld241-t0_s_1|phanotate|96684..97700|339|+|gene_338 4.2e-17 57.1\n",
      "VOG4737 Eld241-t0_s_1|phanotate|78979..79536|186|+|gene_303 0.00011 16.4\n",
      "VOG4792 Eld241-t0_s_1|phanotate|49288..49692|135|-|gene_196 0.0011 13.6\n",
      "VOG4861 Eld241-t0_s_1|phanotate|62430..62867|146|-|gene_246 3.7e-05 18.7\n",
      "VOG5049 Eld241-t0_s_1|phanotate|21038..21289|84|-|gene_89 0.0029 12.3\n",
      "VOG5247 Eld241-t0_s_1|phanotate|8158..8556|133|-|gene_39 2.5e-06 22.3\n",
      "VOG5447 Eld241-t0_s_1|phanotate|78979..79536|186|+|gene_303 2.1e-06 21.8\n",
      "VOG5775 Eld241-t0_s_1|phanotate|95791..96684|298|+|gene_337 6.4e-08 25.8\n",
      "VOG5787 Eld241-t0_s_1|phanotate|30538..30864|109|-|gene_130 3.3e-17 56.7\n",
      "VOG5824 Eld241-t0_s_1|phanotate|45679..46017|113|-|gene_188 0.00017 16.5\n",
      "VOG5840 Eld241-t0_s_1|phanotate|95791..96684|298|+|gene_337 0.00079 12.5\n",
      "VOG6069 Eld241-t0_s_1|phanotate|68064..68384|107|+|gene_267 0.088 7.5\n",
      "VOG6092 Eld241-t0_s_1|phanotate|11551..11826|92|-|gene_52 9.3e-05 17.3\n",
      "VOG6477 Eld241-t0_s_1|phanotate|22240..22503|88|+|gene_94 0.0031 11.9\n",
      "VOG6545 Eld241-t0_s_1|phanotate|92786..93391|202|+|gene_329 6.5e-05 17.4\n",
      "VOG6786 Eld241-t0_s_1|phanotate|68381..68539|53|+|gene_268 4.2e-05 18.2\n",
      "VOG6918 Eld241-t0_s_1|phanotate|95791..96684|298|+|gene_337 5.5e-05 16.3\n",
      "VOG7061 Eld241-t0_s_1|phanotate|35673..35906|78|-|gene_151 0.0034 10.6\n",
      "VOG7068 Eld241-t0_s_1|phanotate|56342..56821|160|-|gene_224 0.00046 12.8\n",
      "VOG7113 Eld241-t0_s_1|phanotate|68381..68539|53|+|gene_268 1e-07 26.4\n",
      "VOG7486 Eld241-t0_s_1|phanotate|96684..97700|339|+|gene_338 5.3e-05 17.5\n",
      "VOG7557 Eld241-t0_s_1|phanotate|62430..62867|146|-|gene_246 3e-06 21.7\n",
      "VOG7654 Eld241-t0_s_1|phanotate|102849..103088|80|-|gene_356 0.00089 13.7\n",
      "VOG7839 Eld241-t0_s_1|phanotate|39020..39523|168|-|gene_166 0.0011 13.7\n",
      "VOG7941 Eld241-t0_s_1|phanotate|95372..95770|133|+|gene_336 0.00021 15.1\n",
      "VOG8094 Eld241-t0_s_1|phanotate|3367..3552|62|-|gene_17 0.0015 13.2\n",
      "VOG8171 Eld241-t0_s_1|phanotate|77999..78520|174|+|gene_301 0.0033 10.2\n",
      "VOG8372 Eld241-t0_s_1|phanotate|47734..49269|512|-|gene_195 0.0024 12.6\n",
      "VOG8473 Eld241-t0_s_1|phanotate|78979..79536|186|+|gene_303 4.2e-05 18.1\n",
      "VOG8491 Eld241-t0_s_1|phanotate|15925..16104|60|+|gene_69 0.045 7.6\n",
      "VOG8506 Eld241-t0_s_1|phanotate|78979..79536|186|+|gene_303 2.5e-13 45.0\n",
      "VOG8564 Eld241-t0_s_1|phanotate|91474..91929|152|+|gene_326 0.0011 13.5\n",
      "VOG8567 Eld241-t0_s_1|phanotate|78979..79536|186|+|gene_303 0.00032 14.9\n",
      "VOG8740 Eld241-t0_s_1|phanotate|43096..43197|34|-|gene_178 0.0021 12.4\n",
      "VOG8953 Eld241-t0_s_1|phanotate|98982..99314|111|+|gene_343 0.085 7.8\n",
      "VOG9031 Eld241-t0_s_1|phanotate|49288..49692|135|-|gene_196 0.02 8.6\n",
      "VOG9316 Eld241-t0_s_1|phanotate|1591..1707|39|-|gene_8 0.002 12.2\n",
      "VOG9548 Eld241-t0_s_1|phanotate|39548..39709|54|+|gene_167 0.00028 15.1\n",
      "VOG9591 Eld241-t0_s_1|phanotate|62430..62867|146|-|gene_246 0.0035 11.9\n"
     ]
    }
   ],
   "source": [
    "handle = SearchIO.parse(\"Functional_annotation/VOG/Eld241-t0_s_1_phanotate.tablvog\", \"hmmer3-tab\")\n",
    "for record in handle:\n",
    "    #print(record.accession, record.id, record.description)\n",
    "    for hit in record.hits:\n",
    "        print(record.id, hit.id, hit.evalue, hit.bitscore)"
   ]
  },
  {
   "cell_type": "code",
   "execution_count": null,
   "metadata": {},
   "outputs": [],
   "source": []
  },
  {
   "cell_type": "code",
   "execution_count": null,
   "metadata": {},
   "outputs": [],
   "source": []
  },
  {
   "cell_type": "code",
   "execution_count": 1,
   "metadata": {},
   "outputs": [],
   "source": [
    "import pandas as pd\n",
    "import numpy as np"
   ]
  },
  {
   "cell_type": "code",
   "execution_count": 2,
   "metadata": {},
   "outputs": [],
   "source": [
    "file = \"/home/dani/programs/developments/PhageAnnotation/Functional_annotation/VOG/genes_tables/Eld241-t0_s_1_phanotate.genestbl\""
   ]
  },
  {
   "cell_type": "code",
   "execution_count": 7,
   "metadata": {},
   "outputs": [],
   "source": [
    "table = pd.read_csv(file, header=0, sep=\"\\t\")"
   ]
  },
  {
   "cell_type": "code",
   "execution_count": 21,
   "metadata": {},
   "outputs": [
    {
     "data": {
      "text/html": [
       "<div>\n",
       "<style scoped>\n",
       "    .dataframe tbody tr th:only-of-type {\n",
       "        vertical-align: middle;\n",
       "    }\n",
       "\n",
       "    .dataframe tbody tr th {\n",
       "        vertical-align: top;\n",
       "    }\n",
       "\n",
       "    .dataframe thead th {\n",
       "        text-align: right;\n",
       "    }\n",
       "</style>\n",
       "<table border=\"1\" class=\"dataframe\">\n",
       "  <thead>\n",
       "    <tr style=\"text-align: right;\">\n",
       "      <th></th>\n",
       "      <th>genome</th>\n",
       "      <th>start</th>\n",
       "      <th>end</th>\n",
       "      <th>strand</th>\n",
       "      <th>aa_length</th>\n",
       "      <th>caller</th>\n",
       "      <th>type</th>\n",
       "      <th>gene_header</th>\n",
       "      <th>gene_id</th>\n",
       "      <th>VOG</th>\n",
       "      <th>VOG_annot</th>\n",
       "    </tr>\n",
       "  </thead>\n",
       "  <tbody>\n",
       "    <tr>\n",
       "      <th>0</th>\n",
       "      <td>Eld241-t0_s_1</td>\n",
       "      <td>2</td>\n",
       "      <td>145</td>\n",
       "      <td>+</td>\n",
       "      <td>48.0</td>\n",
       "      <td>phanotate</td>\n",
       "      <td>CDS</td>\n",
       "      <td>Eld241-t0_s_1|phanotate|2..145|48|+|gene_0</td>\n",
       "      <td>gene_0</td>\n",
       "      <td>NaN</td>\n",
       "      <td>NaN</td>\n",
       "    </tr>\n",
       "    <tr>\n",
       "      <th>1</th>\n",
       "      <td>Eld241-t0_s_1</td>\n",
       "      <td>229</td>\n",
       "      <td>426</td>\n",
       "      <td>-</td>\n",
       "      <td>66.0</td>\n",
       "      <td>phanotate</td>\n",
       "      <td>CDS</td>\n",
       "      <td>Eld241-t0_s_1|phanotate|229..426|66|-|gene_1</td>\n",
       "      <td>gene_1</td>\n",
       "      <td>NaN</td>\n",
       "      <td>NaN</td>\n",
       "    </tr>\n",
       "    <tr>\n",
       "      <th>2</th>\n",
       "      <td>Eld241-t0_s_1</td>\n",
       "      <td>490</td>\n",
       "      <td>594</td>\n",
       "      <td>-</td>\n",
       "      <td>35.0</td>\n",
       "      <td>phanotate</td>\n",
       "      <td>CDS</td>\n",
       "      <td>Eld241-t0_s_1|phanotate|490..594|35|-|gene_2</td>\n",
       "      <td>gene_2</td>\n",
       "      <td>NaN</td>\n",
       "      <td>NaN</td>\n",
       "    </tr>\n",
       "    <tr>\n",
       "      <th>3</th>\n",
       "      <td>Eld241-t0_s_1</td>\n",
       "      <td>626</td>\n",
       "      <td>724</td>\n",
       "      <td>-</td>\n",
       "      <td>33.0</td>\n",
       "      <td>phanotate</td>\n",
       "      <td>CDS</td>\n",
       "      <td>Eld241-t0_s_1|phanotate|626..724|33|-|gene_3</td>\n",
       "      <td>gene_3</td>\n",
       "      <td>NaN</td>\n",
       "      <td>NaN</td>\n",
       "    </tr>\n",
       "    <tr>\n",
       "      <th>4</th>\n",
       "      <td>Eld241-t0_s_1</td>\n",
       "      <td>790</td>\n",
       "      <td>981</td>\n",
       "      <td>-</td>\n",
       "      <td>64.0</td>\n",
       "      <td>phanotate</td>\n",
       "      <td>CDS</td>\n",
       "      <td>Eld241-t0_s_1|phanotate|790..981|64|-|gene_4</td>\n",
       "      <td>gene_4</td>\n",
       "      <td>NaN</td>\n",
       "      <td>NaN</td>\n",
       "    </tr>\n",
       "    <tr>\n",
       "      <th>...</th>\n",
       "      <td>...</td>\n",
       "      <td>...</td>\n",
       "      <td>...</td>\n",
       "      <td>...</td>\n",
       "      <td>...</td>\n",
       "      <td>...</td>\n",
       "      <td>...</td>\n",
       "      <td>...</td>\n",
       "      <td>...</td>\n",
       "      <td>...</td>\n",
       "      <td>...</td>\n",
       "    </tr>\n",
       "    <tr>\n",
       "      <th>355</th>\n",
       "      <td>Eld241-t0_s_1</td>\n",
       "      <td>101802</td>\n",
       "      <td>101933</td>\n",
       "      <td>-</td>\n",
       "      <td>44.0</td>\n",
       "      <td>phanotate</td>\n",
       "      <td>CDS</td>\n",
       "      <td>Eld241-t0_s_1|phanotate|101802..101933|44|-|ge...</td>\n",
       "      <td>gene_352</td>\n",
       "      <td>NaN</td>\n",
       "      <td>NaN</td>\n",
       "    </tr>\n",
       "    <tr>\n",
       "      <th>356</th>\n",
       "      <td>Eld241-t0_s_1</td>\n",
       "      <td>101994</td>\n",
       "      <td>102335</td>\n",
       "      <td>-</td>\n",
       "      <td>114.0</td>\n",
       "      <td>phanotate</td>\n",
       "      <td>CDS</td>\n",
       "      <td>Eld241-t0_s_1|phanotate|101994..102335|114|-|g...</td>\n",
       "      <td>gene_353</td>\n",
       "      <td>NaN</td>\n",
       "      <td>NaN</td>\n",
       "    </tr>\n",
       "    <tr>\n",
       "      <th>357</th>\n",
       "      <td>Eld241-t0_s_1</td>\n",
       "      <td>102378</td>\n",
       "      <td>102470</td>\n",
       "      <td>-</td>\n",
       "      <td>31.0</td>\n",
       "      <td>phanotate</td>\n",
       "      <td>CDS</td>\n",
       "      <td>Eld241-t0_s_1|phanotate|102378..102470|31|-|ge...</td>\n",
       "      <td>gene_354</td>\n",
       "      <td>NaN</td>\n",
       "      <td>NaN</td>\n",
       "    </tr>\n",
       "    <tr>\n",
       "      <th>358</th>\n",
       "      <td>Eld241-t0_s_1</td>\n",
       "      <td>102575</td>\n",
       "      <td>102700</td>\n",
       "      <td>-</td>\n",
       "      <td>42.0</td>\n",
       "      <td>phanotate</td>\n",
       "      <td>CDS</td>\n",
       "      <td>Eld241-t0_s_1|phanotate|102575..102700|42|-|ge...</td>\n",
       "      <td>gene_355</td>\n",
       "      <td>NaN</td>\n",
       "      <td>NaN</td>\n",
       "    </tr>\n",
       "    <tr>\n",
       "      <th>359</th>\n",
       "      <td>Eld241-t0_s_1</td>\n",
       "      <td>102849</td>\n",
       "      <td>103088</td>\n",
       "      <td>-</td>\n",
       "      <td>80.0</td>\n",
       "      <td>phanotate</td>\n",
       "      <td>CDS</td>\n",
       "      <td>Eld241-t0_s_1|phanotate|102849..103088|80|-|ge...</td>\n",
       "      <td>gene_356</td>\n",
       "      <td>NaN</td>\n",
       "      <td>NaN</td>\n",
       "    </tr>\n",
       "  </tbody>\n",
       "</table>\n",
       "<p>360 rows × 11 columns</p>\n",
       "</div>"
      ],
      "text/plain": [
       "            genome   start     end strand  aa_length     caller type  \\\n",
       "0    Eld241-t0_s_1       2     145      +       48.0  phanotate  CDS   \n",
       "1    Eld241-t0_s_1     229     426      -       66.0  phanotate  CDS   \n",
       "2    Eld241-t0_s_1     490     594      -       35.0  phanotate  CDS   \n",
       "3    Eld241-t0_s_1     626     724      -       33.0  phanotate  CDS   \n",
       "4    Eld241-t0_s_1     790     981      -       64.0  phanotate  CDS   \n",
       "..             ...     ...     ...    ...        ...        ...  ...   \n",
       "355  Eld241-t0_s_1  101802  101933      -       44.0  phanotate  CDS   \n",
       "356  Eld241-t0_s_1  101994  102335      -      114.0  phanotate  CDS   \n",
       "357  Eld241-t0_s_1  102378  102470      -       31.0  phanotate  CDS   \n",
       "358  Eld241-t0_s_1  102575  102700      -       42.0  phanotate  CDS   \n",
       "359  Eld241-t0_s_1  102849  103088      -       80.0  phanotate  CDS   \n",
       "\n",
       "                                           gene_header   gene_id  VOG  \\\n",
       "0           Eld241-t0_s_1|phanotate|2..145|48|+|gene_0    gene_0  NaN   \n",
       "1         Eld241-t0_s_1|phanotate|229..426|66|-|gene_1    gene_1  NaN   \n",
       "2         Eld241-t0_s_1|phanotate|490..594|35|-|gene_2    gene_2  NaN   \n",
       "3         Eld241-t0_s_1|phanotate|626..724|33|-|gene_3    gene_3  NaN   \n",
       "4         Eld241-t0_s_1|phanotate|790..981|64|-|gene_4    gene_4  NaN   \n",
       "..                                                 ...       ...  ...   \n",
       "355  Eld241-t0_s_1|phanotate|101802..101933|44|-|ge...  gene_352  NaN   \n",
       "356  Eld241-t0_s_1|phanotate|101994..102335|114|-|g...  gene_353  NaN   \n",
       "357  Eld241-t0_s_1|phanotate|102378..102470|31|-|ge...  gene_354  NaN   \n",
       "358  Eld241-t0_s_1|phanotate|102575..102700|42|-|ge...  gene_355  NaN   \n",
       "359  Eld241-t0_s_1|phanotate|102849..103088|80|-|ge...  gene_356  NaN   \n",
       "\n",
       "    VOG_annot  \n",
       "0         NaN  \n",
       "1         NaN  \n",
       "2         NaN  \n",
       "3         NaN  \n",
       "4         NaN  \n",
       "..        ...  \n",
       "355       NaN  \n",
       "356       NaN  \n",
       "357       NaN  \n",
       "358       NaN  \n",
       "359       NaN  \n",
       "\n",
       "[360 rows x 11 columns]"
      ]
     },
     "execution_count": 21,
     "metadata": {},
     "output_type": "execute_result"
    }
   ],
   "source": [
    "table\n"
   ]
  },
  {
   "cell_type": "code",
   "execution_count": 14,
   "metadata": {},
   "outputs": [
    {
     "data": {
      "text/plain": [
       "(3, 11)"
      ]
     },
     "execution_count": 14,
     "metadata": {},
     "output_type": "execute_result"
    }
   ],
   "source": [
    "cds = table[table[\"type\"] == \"CDS\"]\n",
    "trna = table[table[\"type\"] == \"tRNA\"]"
   ]
  },
  {
   "cell_type": "code",
   "execution_count": 18,
   "metadata": {},
   "outputs": [
    {
     "name": "stdout",
     "output_type": "stream",
     "text": [
      "357 3\n"
     ]
    }
   ],
   "source": [
    "n_cds = cds.shape[0]\n",
    "n_trna = trna.shape[0]\n",
    "print(n_cds, n_trna)"
   ]
  },
  {
   "cell_type": "code",
   "execution_count": 22,
   "metadata": {},
   "outputs": [],
   "source": [
    "# intervals\n",
    "start = table[\"start\"].tolist()\n",
    "end   = table[\"end\"].tolist()\n",
    "\n",
    "intervals = [[s,e] for s,e in zip(start, end)]\n",
    "\n",
    "intervals.sort(key=lambda interval: interval[0])\n",
    "merged = [intervals[0]]\n",
    "for current in intervals:\n",
    "    previous = merged[-1]\n",
    "    if current[0] <= previous[1]:\n",
    "        previous[1] = max(previous[1], current[1])\n",
    "    else:\n",
    "        merged.append(current)\n",
    "        \n",
    "#print(merged)"
   ]
  },
  {
   "cell_type": "code",
   "execution_count": 20,
   "metadata": {},
   "outputs": [
    {
     "data": {
      "text/plain": [
       "297"
      ]
     },
     "execution_count": 20,
     "metadata": {},
     "output_type": "execute_result"
    }
   ],
   "source": [
    "len(merged)"
   ]
  },
  {
   "cell_type": "code",
   "execution_count": 23,
   "metadata": {},
   "outputs": [
    {
     "name": "stdout",
     "output_type": "stream",
     "text": [
      "80719\n"
     ]
    }
   ],
   "source": [
    "# coding length\n",
    "coding_bases = 0\n",
    "for interval in merged:\n",
    "    coding_bases += 1 + (interval[1] - interval[0])\n",
    "\n",
    "print(coding_bases)"
   ]
  },
  {
   "cell_type": "code",
   "execution_count": 35,
   "metadata": {},
   "outputs": [
    {
     "ename": "AttributeError",
     "evalue": "'numpy.float64' object has no attribute 'format'",
     "output_type": "error",
     "traceback": [
      "\u001b[0;31m---------------------------------------------------------------------------\u001b[0m",
      "\u001b[0;31mAttributeError\u001b[0m                            Traceback (most recent call last)",
      "\u001b[0;32m<ipython-input-35-0f1db6b38cf3>\u001b[0m in \u001b[0;36m<module>\u001b[0;34m\u001b[0m\n\u001b[0;32m----> 1\u001b[0;31m \u001b[0mcds\u001b[0m\u001b[0;34m.\u001b[0m\u001b[0mmean\u001b[0m\u001b[0;34m(\u001b[0m\u001b[0maxis\u001b[0m\u001b[0;34m=\u001b[0m\u001b[0;36m0\u001b[0m\u001b[0;34m)\u001b[0m\u001b[0;34m[\u001b[0m\u001b[0;34m\"aa_length\"\u001b[0m\u001b[0;34m]\u001b[0m\u001b[0;34m.\u001b[0m\u001b[0mformat\u001b[0m\u001b[0;34m(\u001b[0m\u001b[0;34m)\u001b[0m\u001b[0;34m\u001b[0m\u001b[0;34m\u001b[0m\u001b[0m\n\u001b[0m",
      "\u001b[0;31mAttributeError\u001b[0m: 'numpy.float64' object has no attribute 'format'"
     ]
    }
   ],
   "source": [
    "cds.mean(axis=0)[\"aa_length\"]"
   ]
  },
  {
   "cell_type": "code",
   "execution_count": 30,
   "metadata": {},
   "outputs": [
    {
     "data": {
      "text/plain": [
       "start        45818.108333\n",
       "end          46044.958333\n",
       "aa_length       76.355742\n",
       "dtype: float64"
      ]
     },
     "execution_count": 30,
     "metadata": {},
     "output_type": "execute_result"
    }
   ],
   "source": [
    "table.mean(axis=0, skipna=True)"
   ]
  },
  {
   "cell_type": "code",
   "execution_count": 27,
   "metadata": {},
   "outputs": [
    {
     "data": {
      "text/plain": [
       "start        77613.0\n",
       "end          77695.0\n",
       "aa_length        NaN\n",
       "VOG              NaN\n",
       "VOG_annot        NaN\n",
       "dtype: float64"
      ]
     },
     "execution_count": 27,
     "metadata": {},
     "output_type": "execute_result"
    }
   ],
   "source": [
    "trna.mean(axis=0)"
   ]
  },
  {
   "cell_type": "code",
   "execution_count": 37,
   "metadata": {},
   "outputs": [
    {
     "data": {
      "text/plain": [
       "'Eld241-t0_s_1'"
      ]
     },
     "execution_count": 37,
     "metadata": {},
     "output_type": "execute_result"
    }
   ],
   "source": [
    "cds[\"genome\"][0]"
   ]
  },
  {
   "cell_type": "code",
   "execution_count": 39,
   "metadata": {},
   "outputs": [
    {
     "data": {
      "text/plain": [
       "genome                                             Eld241-t0_s_1\n",
       "start                                                          2\n",
       "end                                                          145\n",
       "strand                                                         +\n",
       "aa_length                                                     30\n",
       "caller                                                 phanotate\n",
       "type                                                         CDS\n",
       "gene_header    Eld241-t0_s_1|phanotate|100089..100385|99|-|ge...\n",
       "gene_id                                                   gene_0\n",
       "dtype: object"
      ]
     },
     "execution_count": 39,
     "metadata": {},
     "output_type": "execute_result"
    }
   ],
   "source": [
    "cds.min(axis=0)"
   ]
  },
  {
   "cell_type": "code",
   "execution_count": 40,
   "metadata": {},
   "outputs": [
    {
     "data": {
      "text/plain": [
       "['In',\n",
       " 'Out',\n",
       " '_',\n",
       " '_10',\n",
       " '_12',\n",
       " '_13',\n",
       " '_14',\n",
       " '_20',\n",
       " '_21',\n",
       " '_24',\n",
       " '_25',\n",
       " '_26',\n",
       " '_27',\n",
       " '_28',\n",
       " '_29',\n",
       " '_30',\n",
       " '_31',\n",
       " '_33',\n",
       " '_34',\n",
       " '_37',\n",
       " '_38',\n",
       " '_39',\n",
       " '_4',\n",
       " '_6',\n",
       " '_8',\n",
       " '_9',\n",
       " '__',\n",
       " '___',\n",
       " '__builtin__',\n",
       " '__builtins__',\n",
       " '__doc__',\n",
       " '__loader__',\n",
       " '__name__',\n",
       " '__package__',\n",
       " '__spec__',\n",
       " '_dh',\n",
       " '_i',\n",
       " '_i1',\n",
       " '_i10',\n",
       " '_i11',\n",
       " '_i12',\n",
       " '_i13',\n",
       " '_i14',\n",
       " '_i15',\n",
       " '_i16',\n",
       " '_i17',\n",
       " '_i18',\n",
       " '_i19',\n",
       " '_i2',\n",
       " '_i20',\n",
       " '_i21',\n",
       " '_i22',\n",
       " '_i23',\n",
       " '_i24',\n",
       " '_i25',\n",
       " '_i26',\n",
       " '_i27',\n",
       " '_i28',\n",
       " '_i29',\n",
       " '_i3',\n",
       " '_i30',\n",
       " '_i31',\n",
       " '_i32',\n",
       " '_i33',\n",
       " '_i34',\n",
       " '_i35',\n",
       " '_i36',\n",
       " '_i37',\n",
       " '_i38',\n",
       " '_i39',\n",
       " '_i4',\n",
       " '_i40',\n",
       " '_i5',\n",
       " '_i6',\n",
       " '_i7',\n",
       " '_i8',\n",
       " '_i9',\n",
       " '_ih',\n",
       " '_ii',\n",
       " '_iii',\n",
       " '_oh',\n",
       " 'cds',\n",
       " 'coding_bases',\n",
       " 'current',\n",
       " 'end',\n",
       " 'exit',\n",
       " 'file',\n",
       " 'get_ipython',\n",
       " 'interval',\n",
       " 'intervals',\n",
       " 'merged',\n",
       " 'n_cds',\n",
       " 'n_trna',\n",
       " 'np',\n",
       " 'os',\n",
       " 'pd',\n",
       " 'previous',\n",
       " 'quit',\n",
       " 'start',\n",
       " 'table',\n",
       " 'trna']"
      ]
     },
     "execution_count": 40,
     "metadata": {},
     "output_type": "execute_result"
    }
   ],
   "source": [
    "import os\n",
    "dir()"
   ]
  },
  {
   "cell_type": "code",
   "execution_count": 42,
   "metadata": {},
   "outputs": [
    {
     "ename": "NameError",
     "evalue": "name 'listdir' is not defined",
     "output_type": "error",
     "traceback": [
      "\u001b[0;31m---------------------------------------------------------------------------\u001b[0m",
      "\u001b[0;31mNameError\u001b[0m                                 Traceback (most recent call last)",
      "\u001b[0;32m<ipython-input-42-aed91e4ebdce>\u001b[0m in \u001b[0;36m<module>\u001b[0;34m\u001b[0m\n\u001b[0;32m----> 1\u001b[0;31m \u001b[0mlistdir\u001b[0m\u001b[0;34m(\u001b[0m\u001b[0;34m)\u001b[0m\u001b[0;34m\u001b[0m\u001b[0;34m\u001b[0m\u001b[0m\n\u001b[0m",
      "\u001b[0;31mNameError\u001b[0m: name 'listdir' is not defined"
     ]
    }
   ],
   "source": [
    "listdir()"
   ]
  },
  {
   "cell_type": "code",
   "execution_count": 45,
   "metadata": {},
   "outputs": [
    {
     "data": {
      "text/plain": [
       "['Snakefile',\n",
       " '.ipynb_checkpoints',\n",
       " 'coding_statistics.txt',\n",
       " 'scripts',\n",
       " '.gitignore',\n",
       " 'ORF_calling',\n",
       " '.snakemake',\n",
       " 'test varios.ipynb',\n",
       " 'files',\n",
       " 'gggenes_plots',\n",
       " 'genomes_fasta',\n",
       " 'genomes_length.txt',\n",
       " 'Functional_annotation',\n",
       " '.git',\n",
       " 'genomes_lengths.txt',\n",
       " 'README.md']"
      ]
     },
     "execution_count": 45,
     "metadata": {},
     "output_type": "execute_result"
    }
   ],
   "source": [
    "os.listdir()"
   ]
  },
  {
   "cell_type": "code",
   "execution_count": 48,
   "metadata": {},
   "outputs": [
    {
     "data": {
      "text/plain": [
       "'R'"
      ]
     },
     "execution_count": 48,
     "metadata": {},
     "output_type": "execute_result"
    }
   ],
   "source": [
    "os.path.dirname(\"ORF_calling/phanotate/Eld241-t0_s_1_phanotate.faa\")[1]"
   ]
  }
 ],
 "metadata": {
  "kernelspec": {
   "display_name": "Python 3",
   "language": "python",
   "name": "python3"
  },
  "language_info": {
   "codemirror_mode": {
    "name": "ipython",
    "version": 3
   },
   "file_extension": ".py",
   "mimetype": "text/x-python",
   "name": "python",
   "nbconvert_exporter": "python",
   "pygments_lexer": "ipython3",
   "version": "3.7.7"
  }
 },
 "nbformat": 4,
 "nbformat_minor": 4
}
